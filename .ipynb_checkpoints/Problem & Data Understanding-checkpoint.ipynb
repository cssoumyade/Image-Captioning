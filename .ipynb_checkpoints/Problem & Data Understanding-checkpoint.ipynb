{
 "cells": [
  {
   "cell_type": "markdown",
   "metadata": {},
   "source": [
    "\n",
    "---\n",
    "\n",
    "## Automatic image captioning using deep neural networks\n",
    "---\n",
    "\n",
    "<img src=\"images/header.jpg\">\n",
    "\n",
    " \n",
    "### Introduction\n",
    "\n",
    "\n",
    "Image Captioning is the task of automatically generating natural language description based upon the content of a given image. Lets understand by answering a simple question:\n",
    "\n",
    "<h4>How would you describe this given image?</h4>\n",
    "\n",
    "<img src=\"images/Cyclists in Nature.jpg\" height=\"500\" width=\"400\">           \n",
    "\n",
    "Well, someone of you might say **two cyclist riding their bikes on a pleasent weather** \n",
    "While others may say **cyclist riding along a road across pine forest** or even **cyclist enjoying ride on a bright sunny mountain valley**\n",
    "\n",
    "All of them are successfully able to depict what's there in the above image.\n",
    "\n",
    "This task is very trivial even for a first or second grade(standard) student. But this simplicity is achieved due to the presence of a high performing, super efficient and complex learning system inside their head called the brain. Achieving the same with a computer algorithm is not so simple since it involves the conversion of the content of an image(not only the objects but also how they are interacting) to text in natural language. So at this point deep learning comes to play, researchers have shown that prominent results can be achieved in the field of computer vison and natural language processing using DL. Hence, we will also use a deep learning architechture that is capable learning this process of coversion from a huge pool of examples and generating captions for unseen images automatically. Before we can move forward with the architecture, we need to check: \n",
    "<h4>What are the real life applications of such a system:</h4>    \n",
    "\n",
    "* First thing that comes into anyone's mind is that the aid that can be given to the visually impaired\n",
    "* Enhance the performance of content based image/video retrieval systems\n",
    "* Diagnosis from medical images/footages\n",
    "* Any field where there need for describing some visual inforformation, for example fault detection and logging, logging survillance footage etc. \n",
    "\n",
    "---"
   ]
  },
  {
   "cell_type": "markdown",
   "metadata": {},
   "source": [
    "### Data\n",
    "\n",
    "The performance of deep learning systems rely greatly on the amount and quality of data. So its very useful to inspect the data that is available and preprocess it according to our needs. In this study we will using Flickr dataset."
   ]
  },
  {
   "cell_type": "code",
   "execution_count": null,
   "metadata": {},
   "outputs": [],
   "source": []
  }
 ],
 "metadata": {
  "kernelspec": {
   "display_name": "Python 3",
   "language": "python",
   "name": "python3"
  },
  "language_info": {
   "codemirror_mode": {
    "name": "ipython",
    "version": 3
   },
   "file_extension": ".py",
   "mimetype": "text/x-python",
   "name": "python",
   "nbconvert_exporter": "python",
   "pygments_lexer": "ipython3",
   "version": "3.7.7"
  }
 },
 "nbformat": 4,
 "nbformat_minor": 4
}
