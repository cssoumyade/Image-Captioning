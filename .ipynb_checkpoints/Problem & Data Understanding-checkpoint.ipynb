{
 "cells": [
  {
   "cell_type": "markdown",
   "metadata": {},
   "source": [
    "# Image Captioning Using Transfer Learning in Deep Nets\n",
    "\n",
    "---   \n",
    "## Introduction\n",
    "\n",
    "### 1.  Problem Understanding\n",
    "\n",
    "Image Captioning is the task of generating short text description based on some given image.      \n",
    "Lets understand using an example:\n",
    "\n",
    "\n",
    "<img src=\"images/Cyclists in Nature.jpg\" height=\"200\" width=\"200\" align=\"left\">\n"
   ]
  },
  {
   "cell_type": "code",
   "execution_count": null,
   "metadata": {},
   "outputs": [],
   "source": []
  }
 ],
 "metadata": {
  "kernelspec": {
   "display_name": "Python 3",
   "language": "python",
   "name": "python3"
  },
  "language_info": {
   "codemirror_mode": {
    "name": "ipython",
    "version": 3
   },
   "file_extension": ".py",
   "mimetype": "text/x-python",
   "name": "python",
   "nbconvert_exporter": "python",
   "pygments_lexer": "ipython3",
   "version": "3.7.7"
  }
 },
 "nbformat": 4,
 "nbformat_minor": 4
}
